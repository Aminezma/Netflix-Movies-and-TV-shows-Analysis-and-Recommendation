{
 "cells": [
  {
   "cell_type": "markdown",
   "id": "c9b63cba",
   "metadata": {
    "papermill": {
     "duration": 0.032307,
     "end_time": "2021-10-11T11:06:48.649196",
     "exception": false,
     "start_time": "2021-10-11T11:06:48.616889",
     "status": "completed"
    },
    "tags": []
   },
   "source": [
    "**Recommendation system is one of interesting applications in Data Science. Even though we have so many libraries including scikit-learn to implement machine learning models, there is no any direct library for build recommendations. Hence, we have to create this system by our own way. In this notebook, I'm going to create recommendation system only for netflix movies based on title, director, country and description.**    "
   ]
  },
  {
   "cell_type": "code",
   "execution_count": 1,
   "id": "239ada84",
   "metadata": {
    "execution": {
     "iopub.execute_input": "2021-10-11T11:06:48.727984Z",
     "iopub.status.busy": "2021-10-11T11:06:48.727318Z",
     "iopub.status.idle": "2021-10-11T11:06:48.739950Z",
     "shell.execute_reply": "2021-10-11T11:06:48.740561Z",
     "shell.execute_reply.started": "2021-10-11T10:48:34.396306Z"
    },
    "papermill": {
     "duration": 0.059211,
     "end_time": "2021-10-11T11:06:48.740876",
     "exception": false,
     "start_time": "2021-10-11T11:06:48.681665",
     "status": "completed"
    },
    "tags": []
   },
   "outputs": [
    {
     "name": "stdout",
     "output_type": "stream",
     "text": [
      "/kaggle/input/netflix-shows/netflix_titles.csv\n"
     ]
    }
   ],
   "source": [
    "# This Python 3 environment comes with many helpful analytics libraries installed\n",
    "# It is defined by the kaggle/python Docker image: https://github.com/kaggle/docker-python\n",
    "# For example, here's several helpful packages to load\n",
    "\n",
    "import numpy as np # linear algebra\n",
    "import pandas as pd # data processing, CSV file I/O (e.g. pd.read_csv)\n",
    "\n",
    "# Input data files are available in the read-only \"../input/\" directory\n",
    "# For example, running this (by clicking run or pressing Shift+Enter) will list all files under the input directory\n",
    "\n",
    "import os\n",
    "for dirname, _, filenames in os.walk('/kaggle/input'):\n",
    "    for filename in filenames:\n",
    "        print(os.path.join(dirname, filename))\n",
    "\n",
    "# You can write up to 20GB to the current directory (/kaggle/working/) that gets preserved as output when you create a version using \"Save & Run All\" \n",
    "# You can also write temporary files to /kaggle/temp/, but they won't be saved outside of the current session"
   ]
  },
  {
   "cell_type": "markdown",
   "id": "a16463d7",
   "metadata": {
    "papermill": {
     "duration": 0.030353,
     "end_time": "2021-10-11T11:06:48.802949",
     "exception": false,
     "start_time": "2021-10-11T11:06:48.772596",
     "status": "completed"
    },
    "tags": []
   },
   "source": [
    "<h2>Let's import needful libraries</h2>"
   ]
  },
  {
   "cell_type": "code",
   "execution_count": 2,
   "id": "9879375a",
   "metadata": {
    "execution": {
     "iopub.execute_input": "2021-10-11T11:06:48.871008Z",
     "iopub.status.busy": "2021-10-11T11:06:48.870257Z",
     "iopub.status.idle": "2021-10-11T11:06:50.436288Z",
     "shell.execute_reply": "2021-10-11T11:06:50.435775Z",
     "shell.execute_reply.started": "2021-10-11T10:48:34.42763Z"
    },
    "papermill": {
     "duration": 1.601537,
     "end_time": "2021-10-11T11:06:50.436406",
     "exception": false,
     "start_time": "2021-10-11T11:06:48.834869",
     "status": "completed"
    },
    "tags": []
   },
   "outputs": [],
   "source": [
    "import nltk\n",
    "import re\n",
    "from nltk.stem import WordNetLemmatizer\n",
    "from nltk.corpus import stopwords\n",
    "from sklearn.metrics.pairwise import cosine_similarity\n",
    "from sklearn.feature_extraction.text import CountVectorizer\n",
    "import warnings\n",
    "warnings.filterwarnings('ignore')"
   ]
  },
  {
   "cell_type": "code",
   "execution_count": 3,
   "id": "b50b8b5c",
   "metadata": {
    "execution": {
     "iopub.execute_input": "2021-10-11T11:06:50.482368Z",
     "iopub.status.busy": "2021-10-11T11:06:50.481634Z",
     "iopub.status.idle": "2021-10-11T11:06:50.608050Z",
     "shell.execute_reply": "2021-10-11T11:06:50.607457Z",
     "shell.execute_reply.started": "2021-10-11T10:48:35.729061Z"
    },
    "papermill": {
     "duration": 0.151505,
     "end_time": "2021-10-11T11:06:50.608188",
     "exception": false,
     "start_time": "2021-10-11T11:06:50.456683",
     "status": "completed"
    },
    "tags": []
   },
   "outputs": [],
   "source": [
    "data=pd.read_csv(\"/kaggle/input/netflix-shows/netflix_titles.csv\")"
   ]
  },
  {
   "cell_type": "code",
   "execution_count": 4,
   "id": "ad612a9a",
   "metadata": {
    "execution": {
     "iopub.execute_input": "2021-10-11T11:06:50.681482Z",
     "iopub.status.busy": "2021-10-11T11:06:50.680817Z",
     "iopub.status.idle": "2021-10-11T11:06:50.705062Z",
     "shell.execute_reply": "2021-10-11T11:06:50.704493Z",
     "shell.execute_reply.started": "2021-10-11T10:48:35.873649Z"
    },
    "papermill": {
     "duration": 0.065448,
     "end_time": "2021-10-11T11:06:50.705175",
     "exception": false,
     "start_time": "2021-10-11T11:06:50.639727",
     "status": "completed"
    },
    "tags": []
   },
   "outputs": [
    {
     "data": {
      "text/html": [
       "<div>\n",
       "<style scoped>\n",
       "    .dataframe tbody tr th:only-of-type {\n",
       "        vertical-align: middle;\n",
       "    }\n",
       "\n",
       "    .dataframe tbody tr th {\n",
       "        vertical-align: top;\n",
       "    }\n",
       "\n",
       "    .dataframe thead th {\n",
       "        text-align: right;\n",
       "    }\n",
       "</style>\n",
       "<table border=\"1\" class=\"dataframe\">\n",
       "  <thead>\n",
       "    <tr style=\"text-align: right;\">\n",
       "      <th></th>\n",
       "      <th>show_id</th>\n",
       "      <th>type</th>\n",
       "      <th>title</th>\n",
       "      <th>director</th>\n",
       "      <th>cast</th>\n",
       "      <th>country</th>\n",
       "      <th>date_added</th>\n",
       "      <th>release_year</th>\n",
       "      <th>rating</th>\n",
       "      <th>duration</th>\n",
       "      <th>listed_in</th>\n",
       "      <th>description</th>\n",
       "    </tr>\n",
       "  </thead>\n",
       "  <tbody>\n",
       "    <tr>\n",
       "      <th>0</th>\n",
       "      <td>s1</td>\n",
       "      <td>Movie</td>\n",
       "      <td>Dick Johnson Is Dead</td>\n",
       "      <td>Kirsten Johnson</td>\n",
       "      <td>NaN</td>\n",
       "      <td>United States</td>\n",
       "      <td>September 25, 2021</td>\n",
       "      <td>2020</td>\n",
       "      <td>PG-13</td>\n",
       "      <td>90 min</td>\n",
       "      <td>Documentaries</td>\n",
       "      <td>As her father nears the end of his life, filmm...</td>\n",
       "    </tr>\n",
       "    <tr>\n",
       "      <th>1</th>\n",
       "      <td>s2</td>\n",
       "      <td>TV Show</td>\n",
       "      <td>Blood &amp; Water</td>\n",
       "      <td>NaN</td>\n",
       "      <td>Ama Qamata, Khosi Ngema, Gail Mabalane, Thaban...</td>\n",
       "      <td>South Africa</td>\n",
       "      <td>September 24, 2021</td>\n",
       "      <td>2021</td>\n",
       "      <td>TV-MA</td>\n",
       "      <td>2 Seasons</td>\n",
       "      <td>International TV Shows, TV Dramas, TV Mysteries</td>\n",
       "      <td>After crossing paths at a party, a Cape Town t...</td>\n",
       "    </tr>\n",
       "    <tr>\n",
       "      <th>2</th>\n",
       "      <td>s3</td>\n",
       "      <td>TV Show</td>\n",
       "      <td>Ganglands</td>\n",
       "      <td>Julien Leclercq</td>\n",
       "      <td>Sami Bouajila, Tracy Gotoas, Samuel Jouy, Nabi...</td>\n",
       "      <td>NaN</td>\n",
       "      <td>September 24, 2021</td>\n",
       "      <td>2021</td>\n",
       "      <td>TV-MA</td>\n",
       "      <td>1 Season</td>\n",
       "      <td>Crime TV Shows, International TV Shows, TV Act...</td>\n",
       "      <td>To protect his family from a powerful drug lor...</td>\n",
       "    </tr>\n",
       "    <tr>\n",
       "      <th>3</th>\n",
       "      <td>s4</td>\n",
       "      <td>TV Show</td>\n",
       "      <td>Jailbirds New Orleans</td>\n",
       "      <td>NaN</td>\n",
       "      <td>NaN</td>\n",
       "      <td>NaN</td>\n",
       "      <td>September 24, 2021</td>\n",
       "      <td>2021</td>\n",
       "      <td>TV-MA</td>\n",
       "      <td>1 Season</td>\n",
       "      <td>Docuseries, Reality TV</td>\n",
       "      <td>Feuds, flirtations and toilet talk go down amo...</td>\n",
       "    </tr>\n",
       "    <tr>\n",
       "      <th>4</th>\n",
       "      <td>s5</td>\n",
       "      <td>TV Show</td>\n",
       "      <td>Kota Factory</td>\n",
       "      <td>NaN</td>\n",
       "      <td>Mayur More, Jitendra Kumar, Ranjan Raj, Alam K...</td>\n",
       "      <td>India</td>\n",
       "      <td>September 24, 2021</td>\n",
       "      <td>2021</td>\n",
       "      <td>TV-MA</td>\n",
       "      <td>2 Seasons</td>\n",
       "      <td>International TV Shows, Romantic TV Shows, TV ...</td>\n",
       "      <td>In a city of coaching centers known to train I...</td>\n",
       "    </tr>\n",
       "  </tbody>\n",
       "</table>\n",
       "</div>"
      ],
      "text/plain": [
       "  show_id     type                  title         director  \\\n",
       "0      s1    Movie   Dick Johnson Is Dead  Kirsten Johnson   \n",
       "1      s2  TV Show          Blood & Water              NaN   \n",
       "2      s3  TV Show              Ganglands  Julien Leclercq   \n",
       "3      s4  TV Show  Jailbirds New Orleans              NaN   \n",
       "4      s5  TV Show           Kota Factory              NaN   \n",
       "\n",
       "                                                cast        country  \\\n",
       "0                                                NaN  United States   \n",
       "1  Ama Qamata, Khosi Ngema, Gail Mabalane, Thaban...   South Africa   \n",
       "2  Sami Bouajila, Tracy Gotoas, Samuel Jouy, Nabi...            NaN   \n",
       "3                                                NaN            NaN   \n",
       "4  Mayur More, Jitendra Kumar, Ranjan Raj, Alam K...          India   \n",
       "\n",
       "           date_added  release_year rating   duration  \\\n",
       "0  September 25, 2021          2020  PG-13     90 min   \n",
       "1  September 24, 2021          2021  TV-MA  2 Seasons   \n",
       "2  September 24, 2021          2021  TV-MA   1 Season   \n",
       "3  September 24, 2021          2021  TV-MA   1 Season   \n",
       "4  September 24, 2021          2021  TV-MA  2 Seasons   \n",
       "\n",
       "                                           listed_in  \\\n",
       "0                                      Documentaries   \n",
       "1    International TV Shows, TV Dramas, TV Mysteries   \n",
       "2  Crime TV Shows, International TV Shows, TV Act...   \n",
       "3                             Docuseries, Reality TV   \n",
       "4  International TV Shows, Romantic TV Shows, TV ...   \n",
       "\n",
       "                                         description  \n",
       "0  As her father nears the end of his life, filmm...  \n",
       "1  After crossing paths at a party, a Cape Town t...  \n",
       "2  To protect his family from a powerful drug lor...  \n",
       "3  Feuds, flirtations and toilet talk go down amo...  \n",
       "4  In a city of coaching centers known to train I...  "
      ]
     },
     "execution_count": 4,
     "metadata": {},
     "output_type": "execute_result"
    }
   ],
   "source": [
    "df=data.copy()\n",
    "df.head()"
   ]
  },
  {
   "cell_type": "markdown",
   "id": "b5590f11",
   "metadata": {
    "execution": {
     "iopub.execute_input": "2021-10-11T04:38:36.659541Z",
     "iopub.status.busy": "2021-10-11T04:38:36.659215Z",
     "iopub.status.idle": "2021-10-11T04:38:36.666863Z",
     "shell.execute_reply": "2021-10-11T04:38:36.665463Z",
     "shell.execute_reply.started": "2021-10-11T04:38:36.65951Z"
    },
    "papermill": {
     "duration": 0.021,
     "end_time": "2021-10-11T11:06:50.747948",
     "exception": false,
     "start_time": "2021-10-11T11:06:50.726948",
     "status": "completed"
    },
    "tags": []
   },
   "source": [
    "<h2>Data Wrangling</h2>"
   ]
  },
  {
   "cell_type": "code",
   "execution_count": 5,
   "id": "8cb989e5",
   "metadata": {
    "execution": {
     "iopub.execute_input": "2021-10-11T11:06:50.796131Z",
     "iopub.status.busy": "2021-10-11T11:06:50.795447Z",
     "iopub.status.idle": "2021-10-11T11:06:50.800314Z",
     "shell.execute_reply": "2021-10-11T11:06:50.799752Z",
     "shell.execute_reply.started": "2021-10-11T10:48:35.902288Z"
    },
    "papermill": {
     "duration": 0.031133,
     "end_time": "2021-10-11T11:06:50.800448",
     "exception": false,
     "start_time": "2021-10-11T11:06:50.769315",
     "status": "completed"
    },
    "tags": []
   },
   "outputs": [
    {
     "data": {
      "text/plain": [
       "(8807, 12)"
      ]
     },
     "execution_count": 5,
     "metadata": {},
     "output_type": "execute_result"
    }
   ],
   "source": [
    "#shape of the dataset\n",
    "df.shape"
   ]
  },
  {
   "cell_type": "code",
   "execution_count": 6,
   "id": "6867658d",
   "metadata": {
    "execution": {
     "iopub.execute_input": "2021-10-11T11:06:50.876233Z",
     "iopub.status.busy": "2021-10-11T11:06:50.875593Z",
     "iopub.status.idle": "2021-10-11T11:06:50.880412Z",
     "shell.execute_reply": "2021-10-11T11:06:50.879758Z",
     "shell.execute_reply.started": "2021-10-11T10:48:35.908568Z"
    },
    "papermill": {
     "duration": 0.04819,
     "end_time": "2021-10-11T11:06:50.880574",
     "exception": false,
     "start_time": "2021-10-11T11:06:50.832384",
     "status": "completed"
    },
    "tags": []
   },
   "outputs": [
    {
     "data": {
      "text/plain": [
       "0"
      ]
     },
     "execution_count": 6,
     "metadata": {},
     "output_type": "execute_result"
    }
   ],
   "source": [
    "#check duplicates\n",
    "df['show_id'].duplicated().sum()"
   ]
  },
  {
   "cell_type": "code",
   "execution_count": 7,
   "id": "bdea7116",
   "metadata": {
    "execution": {
     "iopub.execute_input": "2021-10-11T11:06:50.957284Z",
     "iopub.status.busy": "2021-10-11T11:06:50.956599Z",
     "iopub.status.idle": "2021-10-11T11:06:50.963118Z",
     "shell.execute_reply": "2021-10-11T11:06:50.962734Z",
     "shell.execute_reply.started": "2021-10-11T10:48:35.926255Z"
    },
    "papermill": {
     "duration": 0.049649,
     "end_time": "2021-10-11T11:06:50.963223",
     "exception": false,
     "start_time": "2021-10-11T11:06:50.913574",
     "status": "completed"
    },
    "tags": []
   },
   "outputs": [
    {
     "data": {
      "text/plain": [
       "show_id            0\n",
       "type               0\n",
       "title              0\n",
       "director        2634\n",
       "cast             825\n",
       "country          831\n",
       "date_added        10\n",
       "release_year       0\n",
       "rating             4\n",
       "duration           3\n",
       "listed_in          0\n",
       "description        0\n",
       "dtype: int64"
      ]
     },
     "execution_count": 7,
     "metadata": {},
     "output_type": "execute_result"
    }
   ],
   "source": [
    "#check missing values\n",
    "df.isna().sum()"
   ]
  },
  {
   "cell_type": "markdown",
   "id": "f96e2bc7",
   "metadata": {
    "papermill": {
     "duration": 0.021681,
     "end_time": "2021-10-11T11:06:51.006513",
     "exception": false,
     "start_time": "2021-10-11T11:06:50.984832",
     "status": "completed"
    },
    "tags": []
   },
   "source": [
    "<h4>Six columns have some missing values. Since all these six columns consists of text data, it is really hard to impute those values. Therefore, it's better to remove all the missing values.</h4>"
   ]
  },
  {
   "cell_type": "code",
   "execution_count": 8,
   "id": "72547337",
   "metadata": {
    "execution": {
     "iopub.execute_input": "2021-10-11T11:06:51.069264Z",
     "iopub.status.busy": "2021-10-11T11:06:51.068628Z",
     "iopub.status.idle": "2021-10-11T11:06:51.076102Z",
     "shell.execute_reply": "2021-10-11T11:06:51.076597Z",
     "shell.execute_reply.started": "2021-10-11T10:48:35.950954Z"
    },
    "papermill": {
     "duration": 0.048096,
     "end_time": "2021-10-11T11:06:51.076797",
     "exception": false,
     "start_time": "2021-10-11T11:06:51.028701",
     "status": "completed"
    },
    "tags": []
   },
   "outputs": [],
   "source": [
    "#remove all the missing values\n",
    "df.dropna(inplace=True)"
   ]
  },
  {
   "cell_type": "markdown",
   "id": "4ab261f9",
   "metadata": {
    "execution": {
     "iopub.execute_input": "2021-10-11T04:45:26.709331Z",
     "iopub.status.busy": "2021-10-11T04:45:26.708929Z",
     "iopub.status.idle": "2021-10-11T04:45:26.726754Z",
     "shell.execute_reply": "2021-10-11T04:45:26.725904Z",
     "shell.execute_reply.started": "2021-10-11T04:45:26.709288Z"
    },
    "papermill": {
     "duration": 0.032585,
     "end_time": "2021-10-11T11:06:51.142202",
     "exception": false,
     "start_time": "2021-10-11T11:06:51.109617",
     "status": "completed"
    },
    "tags": []
   },
   "source": [
    "<h4>Since we have removed missing values, index values are not in order. So as a good practice it's better to reset our index values.</h4>"
   ]
  },
  {
   "cell_type": "code",
   "execution_count": 9,
   "id": "13682414",
   "metadata": {
    "execution": {
     "iopub.execute_input": "2021-10-11T11:06:51.213852Z",
     "iopub.status.busy": "2021-10-11T11:06:51.213155Z",
     "iopub.status.idle": "2021-10-11T11:06:51.215407Z",
     "shell.execute_reply": "2021-10-11T11:06:51.214794Z",
     "shell.execute_reply.started": "2021-10-11T10:48:35.975154Z"
    },
    "papermill": {
     "duration": 0.040019,
     "end_time": "2021-10-11T11:06:51.215559",
     "exception": false,
     "start_time": "2021-10-11T11:06:51.175540",
     "status": "completed"
    },
    "tags": []
   },
   "outputs": [],
   "source": [
    "#reset the index values\n",
    "df.reset_index(inplace=True)"
   ]
  },
  {
   "cell_type": "markdown",
   "id": "d22c917d",
   "metadata": {
    "execution": {
     "iopub.execute_input": "2021-10-11T04:50:32.5634Z",
     "iopub.status.busy": "2021-10-11T04:50:32.563061Z",
     "iopub.status.idle": "2021-10-11T04:50:32.582774Z",
     "shell.execute_reply": "2021-10-11T04:50:32.581787Z",
     "shell.execute_reply.started": "2021-10-11T04:50:32.563369Z"
    },
    "papermill": {
     "duration": 0.032608,
     "end_time": "2021-10-11T11:06:51.281091",
     "exception": false,
     "start_time": "2021-10-11T11:06:51.248483",
     "status": "completed"
    },
    "tags": []
   },
   "source": [
    "<h4>As I told, Let's extract only movie data</h4>"
   ]
  },
  {
   "cell_type": "code",
   "execution_count": 10,
   "id": "88cfd70e",
   "metadata": {
    "execution": {
     "iopub.execute_input": "2021-10-11T11:06:51.354018Z",
     "iopub.status.busy": "2021-10-11T11:06:51.353542Z",
     "iopub.status.idle": "2021-10-11T11:06:51.356482Z",
     "shell.execute_reply": "2021-10-11T11:06:51.355948Z",
     "shell.execute_reply.started": "2021-10-11T10:48:35.98268Z"
    },
    "papermill": {
     "duration": 0.042676,
     "end_time": "2021-10-11T11:06:51.356619",
     "exception": false,
     "start_time": "2021-10-11T11:06:51.313943",
     "status": "completed"
    },
    "tags": []
   },
   "outputs": [],
   "source": [
    "df1=df[df['type']=='Movie']"
   ]
  },
  {
   "cell_type": "code",
   "execution_count": 11,
   "id": "2aa726be",
   "metadata": {
    "execution": {
     "iopub.execute_input": "2021-10-11T11:06:51.405115Z",
     "iopub.status.busy": "2021-10-11T11:06:51.404616Z",
     "iopub.status.idle": "2021-10-11T11:06:51.407435Z",
     "shell.execute_reply": "2021-10-11T11:06:51.407850Z",
     "shell.execute_reply.started": "2021-10-11T10:48:35.995918Z"
    },
    "papermill": {
     "duration": 0.029086,
     "end_time": "2021-10-11T11:06:51.407978",
     "exception": false,
     "start_time": "2021-10-11T11:06:51.378892",
     "status": "completed"
    },
    "tags": []
   },
   "outputs": [],
   "source": [
    "#reset index\n",
    "df1.reset_index(inplace=True)"
   ]
  },
  {
   "cell_type": "markdown",
   "id": "87763f8e",
   "metadata": {
    "execution": {
     "iopub.execute_input": "2021-10-11T04:53:08.625879Z",
     "iopub.status.busy": "2021-10-11T04:53:08.624555Z",
     "iopub.status.idle": "2021-10-11T04:53:08.644741Z",
     "shell.execute_reply": "2021-10-11T04:53:08.644069Z",
     "shell.execute_reply.started": "2021-10-11T04:53:08.625836Z"
    },
    "papermill": {
     "duration": 0.021307,
     "end_time": "2021-10-11T11:06:51.450774",
     "exception": false,
     "start_time": "2021-10-11T11:06:51.429467",
     "status": "completed"
    },
    "tags": []
   },
   "source": [
    "<h2>Needful Columns</h2>"
   ]
  },
  {
   "cell_type": "code",
   "execution_count": 12,
   "id": "a74af941",
   "metadata": {
    "execution": {
     "iopub.execute_input": "2021-10-11T11:06:51.504107Z",
     "iopub.status.busy": "2021-10-11T11:06:51.503444Z",
     "iopub.status.idle": "2021-10-11T11:06:51.507304Z",
     "shell.execute_reply": "2021-10-11T11:06:51.506913Z",
     "shell.execute_reply.started": "2021-10-11T10:48:36.005193Z"
    },
    "papermill": {
     "duration": 0.035528,
     "end_time": "2021-10-11T11:06:51.507416",
     "exception": false,
     "start_time": "2021-10-11T11:06:51.471888",
     "status": "completed"
    },
    "tags": []
   },
   "outputs": [
    {
     "data": {
      "text/html": [
       "<div>\n",
       "<style scoped>\n",
       "    .dataframe tbody tr th:only-of-type {\n",
       "        vertical-align: middle;\n",
       "    }\n",
       "\n",
       "    .dataframe tbody tr th {\n",
       "        vertical-align: top;\n",
       "    }\n",
       "\n",
       "    .dataframe thead th {\n",
       "        text-align: right;\n",
       "    }\n",
       "</style>\n",
       "<table border=\"1\" class=\"dataframe\">\n",
       "  <thead>\n",
       "    <tr style=\"text-align: right;\">\n",
       "      <th></th>\n",
       "      <th>title</th>\n",
       "      <th>director</th>\n",
       "      <th>country</th>\n",
       "      <th>description</th>\n",
       "    </tr>\n",
       "  </thead>\n",
       "  <tbody>\n",
       "    <tr>\n",
       "      <th>0</th>\n",
       "      <td>Sankofa</td>\n",
       "      <td>Haile Gerima</td>\n",
       "      <td>United States, Ghana, Burkina Faso, United Kin...</td>\n",
       "      <td>On a photo shoot in Ghana, an American model s...</td>\n",
       "    </tr>\n",
       "    <tr>\n",
       "      <th>1</th>\n",
       "      <td>The Starling</td>\n",
       "      <td>Theodore Melfi</td>\n",
       "      <td>United States</td>\n",
       "      <td>A woman adjusting to life after a loss contend...</td>\n",
       "    </tr>\n",
       "    <tr>\n",
       "      <th>2</th>\n",
       "      <td>Je Suis Karl</td>\n",
       "      <td>Christian Schwochow</td>\n",
       "      <td>Germany, Czech Republic</td>\n",
       "      <td>After most of her family is murdered in a terr...</td>\n",
       "    </tr>\n",
       "    <tr>\n",
       "      <th>3</th>\n",
       "      <td>Jeans</td>\n",
       "      <td>S. Shankar</td>\n",
       "      <td>India</td>\n",
       "      <td>When the father of the man she loves insists t...</td>\n",
       "    </tr>\n",
       "    <tr>\n",
       "      <th>4</th>\n",
       "      <td>Grown Ups</td>\n",
       "      <td>Dennis Dugan</td>\n",
       "      <td>United States</td>\n",
       "      <td>Mourning the loss of their beloved junior high...</td>\n",
       "    </tr>\n",
       "  </tbody>\n",
       "</table>\n",
       "</div>"
      ],
      "text/plain": [
       "          title             director  \\\n",
       "0       Sankofa         Haile Gerima   \n",
       "1  The Starling       Theodore Melfi   \n",
       "2  Je Suis Karl  Christian Schwochow   \n",
       "3         Jeans           S. Shankar   \n",
       "4     Grown Ups         Dennis Dugan   \n",
       "\n",
       "                                             country  \\\n",
       "0  United States, Ghana, Burkina Faso, United Kin...   \n",
       "1                                      United States   \n",
       "2                            Germany, Czech Republic   \n",
       "3                                              India   \n",
       "4                                      United States   \n",
       "\n",
       "                                         description  \n",
       "0  On a photo shoot in Ghana, an American model s...  \n",
       "1  A woman adjusting to life after a loss contend...  \n",
       "2  After most of her family is murdered in a terr...  \n",
       "3  When the father of the man she loves insists t...  \n",
       "4  Mourning the loss of their beloved junior high...  "
      ]
     },
     "execution_count": 12,
     "metadata": {},
     "output_type": "execute_result"
    }
   ],
   "source": [
    "newdf=df1[['title','director','country','description']]\n",
    "newdf.head()"
   ]
  },
  {
   "cell_type": "markdown",
   "id": "8bfe65b7",
   "metadata": {
    "papermill": {
     "duration": 0.022266,
     "end_time": "2021-10-11T11:06:51.552035",
     "exception": false,
     "start_time": "2021-10-11T11:06:51.529769",
     "status": "completed"
    },
    "tags": []
   },
   "source": [
    "<h2>Cleaning Text Data</h2>"
   ]
  },
  {
   "cell_type": "markdown",
   "id": "638eddd5",
   "metadata": {
    "papermill": {
     "duration": 0.02228,
     "end_time": "2021-10-11T11:06:51.596849",
     "exception": false,
     "start_time": "2021-10-11T11:06:51.574569",
     "status": "completed"
    },
    "tags": []
   },
   "source": [
    "<h4>As a good practice, it's better to remove all unnecessary notations, remove stop words, use lemmatization (Lemmatization helps us to achieve the root forms (sometimes called synonyms in search context) of inflected (derived) words), and convert all letters to lower cases (Since I'm going to apply count vectorizer, if there exist a word with both upper and lower cases, then count vectorizer identify that word as two words).</h4>  "
   ]
  },
  {
   "cell_type": "code",
   "execution_count": 13,
   "id": "31041cec",
   "metadata": {
    "execution": {
     "iopub.execute_input": "2021-10-11T11:06:51.645911Z",
     "iopub.status.busy": "2021-10-11T11:06:51.645356Z",
     "iopub.status.idle": "2021-10-11T11:06:52.054335Z",
     "shell.execute_reply": "2021-10-11T11:06:52.054754Z",
     "shell.execute_reply.started": "2021-10-11T10:48:36.025208Z"
    },
    "papermill": {
     "duration": 0.434725,
     "end_time": "2021-10-11T11:06:52.054896",
     "exception": false,
     "start_time": "2021-10-11T11:06:51.620171",
     "status": "completed"
    },
    "tags": []
   },
   "outputs": [],
   "source": [
    "features=[]\n",
    "\n",
    "for i in range(newdf.shape[0]):\n",
    "    features.append(\" \".join(list(newdf.iloc[i].values)))"
   ]
  },
  {
   "cell_type": "code",
   "execution_count": 14,
   "id": "54ddf6ae",
   "metadata": {
    "execution": {
     "iopub.execute_input": "2021-10-11T11:06:52.107950Z",
     "iopub.status.busy": "2021-10-11T11:06:52.107302Z",
     "iopub.status.idle": "2021-10-11T11:07:23.442258Z",
     "shell.execute_reply": "2021-10-11T11:07:23.441579Z",
     "shell.execute_reply.started": "2021-10-11T10:48:36.346262Z"
    },
    "papermill": {
     "duration": 31.364776,
     "end_time": "2021-10-11T11:07:23.442371",
     "exception": false,
     "start_time": "2021-10-11T11:06:52.077595",
     "status": "completed"
    },
    "tags": []
   },
   "outputs": [],
   "source": [
    "lem=nltk.WordNetLemmatizer()\n",
    "corpus=[]\n",
    "\n",
    "for i in range(len(features)):\n",
    "    review=re.sub('[^a-zA-Z]',' ',features[i])\n",
    "    review=review.lower()\n",
    "    review=review.split()\n",
    "    review=[lem.lemmatize(w) for w in review if w not in set(stopwords.words('english'))]\n",
    "    review=' '.join(review)\n",
    "    corpus.append(review)"
   ]
  },
  {
   "cell_type": "code",
   "execution_count": 15,
   "id": "7d3880b2",
   "metadata": {
    "execution": {
     "iopub.execute_input": "2021-10-11T11:07:23.500476Z",
     "iopub.status.busy": "2021-10-11T11:07:23.499928Z",
     "iopub.status.idle": "2021-10-11T11:07:23.501988Z",
     "shell.execute_reply": "2021-10-11T11:07:23.502350Z",
     "shell.execute_reply.started": "2021-10-11T10:49:01.836526Z"
    },
    "papermill": {
     "duration": 0.037042,
     "end_time": "2021-10-11T11:07:23.502476",
     "exception": false,
     "start_time": "2021-10-11T11:07:23.465434",
     "status": "completed"
    },
    "tags": []
   },
   "outputs": [
    {
     "data": {
      "text/html": [
       "<div>\n",
       "<style scoped>\n",
       "    .dataframe tbody tr th:only-of-type {\n",
       "        vertical-align: middle;\n",
       "    }\n",
       "\n",
       "    .dataframe tbody tr th {\n",
       "        vertical-align: top;\n",
       "    }\n",
       "\n",
       "    .dataframe thead th {\n",
       "        text-align: right;\n",
       "    }\n",
       "</style>\n",
       "<table border=\"1\" class=\"dataframe\">\n",
       "  <thead>\n",
       "    <tr style=\"text-align: right;\">\n",
       "      <th></th>\n",
       "      <th>title</th>\n",
       "      <th>director</th>\n",
       "      <th>country</th>\n",
       "      <th>description</th>\n",
       "      <th>features</th>\n",
       "    </tr>\n",
       "  </thead>\n",
       "  <tbody>\n",
       "    <tr>\n",
       "      <th>0</th>\n",
       "      <td>Sankofa</td>\n",
       "      <td>Haile Gerima</td>\n",
       "      <td>United States, Ghana, Burkina Faso, United Kin...</td>\n",
       "      <td>On a photo shoot in Ghana, an American model s...</td>\n",
       "      <td>sankofa haile gerima united state ghana burkin...</td>\n",
       "    </tr>\n",
       "    <tr>\n",
       "      <th>1</th>\n",
       "      <td>The Starling</td>\n",
       "      <td>Theodore Melfi</td>\n",
       "      <td>United States</td>\n",
       "      <td>A woman adjusting to life after a loss contend...</td>\n",
       "      <td>starling theodore melfi united state woman adj...</td>\n",
       "    </tr>\n",
       "    <tr>\n",
       "      <th>2</th>\n",
       "      <td>Je Suis Karl</td>\n",
       "      <td>Christian Schwochow</td>\n",
       "      <td>Germany, Czech Republic</td>\n",
       "      <td>After most of her family is murdered in a terr...</td>\n",
       "      <td>je suis karl christian schwochow germany czech...</td>\n",
       "    </tr>\n",
       "    <tr>\n",
       "      <th>3</th>\n",
       "      <td>Jeans</td>\n",
       "      <td>S. Shankar</td>\n",
       "      <td>India</td>\n",
       "      <td>When the father of the man she loves insists t...</td>\n",
       "      <td>jean shankar india father man love insists twi...</td>\n",
       "    </tr>\n",
       "    <tr>\n",
       "      <th>4</th>\n",
       "      <td>Grown Ups</td>\n",
       "      <td>Dennis Dugan</td>\n",
       "      <td>United States</td>\n",
       "      <td>Mourning the loss of their beloved junior high...</td>\n",
       "      <td>grown ups dennis dugan united state mourning l...</td>\n",
       "    </tr>\n",
       "  </tbody>\n",
       "</table>\n",
       "</div>"
      ],
      "text/plain": [
       "          title             director  \\\n",
       "0       Sankofa         Haile Gerima   \n",
       "1  The Starling       Theodore Melfi   \n",
       "2  Je Suis Karl  Christian Schwochow   \n",
       "3         Jeans           S. Shankar   \n",
       "4     Grown Ups         Dennis Dugan   \n",
       "\n",
       "                                             country  \\\n",
       "0  United States, Ghana, Burkina Faso, United Kin...   \n",
       "1                                      United States   \n",
       "2                            Germany, Czech Republic   \n",
       "3                                              India   \n",
       "4                                      United States   \n",
       "\n",
       "                                         description  \\\n",
       "0  On a photo shoot in Ghana, an American model s...   \n",
       "1  A woman adjusting to life after a loss contend...   \n",
       "2  After most of her family is murdered in a terr...   \n",
       "3  When the father of the man she loves insists t...   \n",
       "4  Mourning the loss of their beloved junior high...   \n",
       "\n",
       "                                            features  \n",
       "0  sankofa haile gerima united state ghana burkin...  \n",
       "1  starling theodore melfi united state woman adj...  \n",
       "2  je suis karl christian schwochow germany czech...  \n",
       "3  jean shankar india father man love insists twi...  \n",
       "4  grown ups dennis dugan united state mourning l...  "
      ]
     },
     "execution_count": 15,
     "metadata": {},
     "output_type": "execute_result"
    }
   ],
   "source": [
    "newdf['features']=corpus\n",
    "newdf.head()"
   ]
  },
  {
   "cell_type": "markdown",
   "id": "f7c51547",
   "metadata": {
    "papermill": {
     "duration": 0.022481,
     "end_time": "2021-10-11T11:07:23.547643",
     "exception": false,
     "start_time": "2021-10-11T11:07:23.525162",
     "status": "completed"
    },
    "tags": []
   },
   "source": [
    "<h2>Feature Count Matrix</h2>"
   ]
  },
  {
   "cell_type": "markdown",
   "id": "92a4ce53",
   "metadata": {
    "papermill": {
     "duration": 0.022204,
     "end_time": "2021-10-11T11:07:23.592378",
     "exception": false,
     "start_time": "2021-10-11T11:07:23.570174",
     "status": "completed"
    },
    "tags": []
   },
   "source": [
    "<h4>I'm going to use count vectorizer for this task. However, you can use TF-IDF as well.</h4> "
   ]
  },
  {
   "cell_type": "code",
   "execution_count": 16,
   "id": "a28b4f79",
   "metadata": {
    "execution": {
     "iopub.execute_input": "2021-10-11T11:07:23.641110Z",
     "iopub.status.busy": "2021-10-11T11:07:23.640424Z",
     "iopub.status.idle": "2021-10-11T11:07:23.894189Z",
     "shell.execute_reply": "2021-10-11T11:07:23.893701Z",
     "shell.execute_reply.started": "2021-10-11T10:49:01.852356Z"
    },
    "papermill": {
     "duration": 0.279598,
     "end_time": "2021-10-11T11:07:23.894297",
     "exception": false,
     "start_time": "2021-10-11T11:07:23.614699",
     "status": "completed"
    },
    "tags": []
   },
   "outputs": [],
   "source": [
    "cv=CountVectorizer()\n",
    "cvdf=cv.fit_transform(newdf['features'])"
   ]
  },
  {
   "cell_type": "code",
   "execution_count": 17,
   "id": "39e41625",
   "metadata": {
    "execution": {
     "iopub.execute_input": "2021-10-11T11:07:23.942999Z",
     "iopub.status.busy": "2021-10-11T11:07:23.942527Z",
     "iopub.status.idle": "2021-10-11T11:07:24.032236Z",
     "shell.execute_reply": "2021-10-11T11:07:24.031733Z",
     "shell.execute_reply.started": "2021-10-11T10:49:02.077054Z"
    },
    "papermill": {
     "duration": 0.115584,
     "end_time": "2021-10-11T11:07:24.032369",
     "exception": false,
     "start_time": "2021-10-11T11:07:23.916785",
     "status": "completed"
    },
    "tags": []
   },
   "outputs": [
    {
     "data": {
      "text/plain": [
       "array([[0, 0, 0, ..., 0, 0, 0],\n",
       "       [0, 0, 0, ..., 0, 0, 0],\n",
       "       [0, 0, 0, ..., 0, 0, 0],\n",
       "       ...,\n",
       "       [0, 0, 0, ..., 0, 0, 0],\n",
       "       [0, 0, 0, ..., 0, 0, 0],\n",
       "       [0, 0, 0, ..., 0, 0, 0]])"
      ]
     },
     "execution_count": 17,
     "metadata": {},
     "output_type": "execute_result"
    }
   ],
   "source": [
    "#since cvdf is sparse matrix, we need to put toarray() part to show our matrix\n",
    "cvdf.toarray()"
   ]
  },
  {
   "cell_type": "markdown",
   "id": "bae2067b",
   "metadata": {
    "papermill": {
     "duration": 0.034483,
     "end_time": "2021-10-11T11:07:24.101631",
     "exception": false,
     "start_time": "2021-10-11T11:07:24.067148",
     "status": "completed"
    },
    "tags": []
   },
   "source": [
    "<h2>Let's Calculate Cosine Similarity</h2>"
   ]
  },
  {
   "cell_type": "markdown",
   "id": "5b78ed41",
   "metadata": {
    "papermill": {
     "duration": 0.034148,
     "end_time": "2021-10-11T11:07:24.170214",
     "exception": false,
     "start_time": "2021-10-11T11:07:24.136066",
     "status": "completed"
    },
    "tags": []
   },
   "source": [
    "<h4>We use cosine similarity to calculate similarity between movies (we can use linear kernal as well).</h4>"
   ]
  },
  {
   "cell_type": "code",
   "execution_count": 18,
   "id": "dc3cb510",
   "metadata": {
    "execution": {
     "iopub.execute_input": "2021-10-11T11:07:24.244020Z",
     "iopub.status.busy": "2021-10-11T11:07:24.243326Z",
     "iopub.status.idle": "2021-10-11T11:07:24.621074Z",
     "shell.execute_reply": "2021-10-11T11:07:24.620430Z",
     "shell.execute_reply.started": "2021-10-11T10:49:02.287188Z"
    },
    "papermill": {
     "duration": 0.416719,
     "end_time": "2021-10-11T11:07:24.621208",
     "exception": false,
     "start_time": "2021-10-11T11:07:24.204489",
     "status": "completed"
    },
    "tags": []
   },
   "outputs": [],
   "source": [
    "cs=cosine_similarity(cvdf)"
   ]
  },
  {
   "cell_type": "code",
   "execution_count": 19,
   "id": "34f2e152",
   "metadata": {
    "execution": {
     "iopub.execute_input": "2021-10-11T11:07:24.696541Z",
     "iopub.status.busy": "2021-10-11T11:07:24.695898Z",
     "iopub.status.idle": "2021-10-11T11:07:24.698560Z",
     "shell.execute_reply": "2021-10-11T11:07:24.699048Z",
     "shell.execute_reply.started": "2021-10-11T10:49:02.832931Z"
    },
    "papermill": {
     "duration": 0.043544,
     "end_time": "2021-10-11T11:07:24.699205",
     "exception": false,
     "start_time": "2021-10-11T11:07:24.655661",
     "status": "completed"
    },
    "tags": []
   },
   "outputs": [
    {
     "data": {
      "text/plain": [
       "array([[1.        , 0.12166607, 0.04055536, ..., 0.12166607, 0.11572751,\n",
       "        0.04287465],\n",
       "       [0.12166607, 1.        , 0.05263158, ..., 0.15789474, 0.15018785,\n",
       "        0.05564149],\n",
       "       [0.04055536, 0.05263158, 1.        , ..., 0.        , 0.        ,\n",
       "        0.05564149],\n",
       "       ...,\n",
       "       [0.12166607, 0.15789474, 0.        , ..., 1.        , 0.10012523,\n",
       "        0.        ],\n",
       "       [0.11572751, 0.15018785, 0.        , ..., 0.10012523, 1.        ,\n",
       "        0.        ],\n",
       "       [0.04287465, 0.05564149, 0.05564149, ..., 0.        , 0.        ,\n",
       "        1.        ]])"
      ]
     },
     "execution_count": 19,
     "metadata": {},
     "output_type": "execute_result"
    }
   ],
   "source": [
    "cs"
   ]
  },
  {
   "cell_type": "markdown",
   "id": "3a9fee13",
   "metadata": {
    "papermill": {
     "duration": 0.034401,
     "end_time": "2021-10-11T11:07:24.768073",
     "exception": false,
     "start_time": "2021-10-11T11:07:24.733672",
     "status": "completed"
    },
    "tags": []
   },
   "source": [
    "<h2>Recommendations</h2>"
   ]
  },
  {
   "cell_type": "code",
   "execution_count": 20,
   "id": "1eb0ce80",
   "metadata": {
    "execution": {
     "iopub.execute_input": "2021-10-11T11:07:24.843848Z",
     "iopub.status.busy": "2021-10-11T11:07:24.843050Z",
     "iopub.status.idle": "2021-10-11T11:07:24.845734Z",
     "shell.execute_reply": "2021-10-11T11:07:24.845196Z",
     "shell.execute_reply.started": "2021-10-11T10:49:02.841706Z"
    },
    "papermill": {
     "duration": 0.043009,
     "end_time": "2021-10-11T11:07:24.845861",
     "exception": false,
     "start_time": "2021-10-11T11:07:24.802852",
     "status": "completed"
    },
    "tags": []
   },
   "outputs": [],
   "source": [
    "#let's write a function to get recommendations for given movie\n",
    "def movie_rec(title):\n",
    "    \n",
    "    #extract movie index of given movie title\n",
    "    movie_index=newdf[[title in name for name in newdf[\"title\"]]].index[0]\n",
    "    \n",
    "    #get similarity score and its index for given movie title\n",
    "    similarity_score=list(enumerate(cs[movie_index]))\n",
    "    \n",
    "    #sorted similarity scores for given movie title (Descending order)\n",
    "    similarity_score=sorted(similarity_score,key=lambda x:x[1],reverse=True)\n",
    "    \n",
    "    #extract top 10 similarity scores for given movie\n",
    "    similarity_score=similarity_score[1:11]\n",
    "    \n",
    "    #extract index values of top 10 movies\n",
    "    movie_indices=[idx[0] for idx in similarity_score]\n",
    "    \n",
    "    #return recommended movies with their index values\n",
    "    return newdf['title'][movie_indices]"
   ]
  },
  {
   "cell_type": "markdown",
   "id": "0ad59ecb",
   "metadata": {
    "papermill": {
     "duration": 0.034812,
     "end_time": "2021-10-11T11:07:24.915650",
     "exception": false,
     "start_time": "2021-10-11T11:07:24.880838",
     "status": "completed"
    },
    "tags": []
   },
   "source": [
    "<h4>Let's check our functions!</h4>"
   ]
  },
  {
   "cell_type": "code",
   "execution_count": 21,
   "id": "156ef78b",
   "metadata": {
    "execution": {
     "iopub.execute_input": "2021-10-11T11:07:24.998687Z",
     "iopub.status.busy": "2021-10-11T11:07:24.997956Z",
     "iopub.status.idle": "2021-10-11T11:07:25.001329Z",
     "shell.execute_reply": "2021-10-11T11:07:25.000809Z",
     "shell.execute_reply.started": "2021-10-11T10:49:02.853118Z"
    },
    "papermill": {
     "duration": 0.050754,
     "end_time": "2021-10-11T11:07:25.001456",
     "exception": false,
     "start_time": "2021-10-11T11:07:24.950702",
     "status": "completed"
    },
    "tags": []
   },
   "outputs": [
    {
     "data": {
      "text/plain": [
       "1894               Twins Mission\n",
       "3424                      Bazaar\n",
       "3444                     Bewafaa\n",
       "1857              Kaake Da Viyah\n",
       "2883    Oh Darling Yeh Hai India\n",
       "1685                    Mahi NRI\n",
       "2713                        Jaal\n",
       "2365                       Dev.D\n",
       "3436               Beiimaan Love\n",
       "1016                   PhotoCopy\n",
       "Name: title, dtype: object"
      ]
     },
     "execution_count": 21,
     "metadata": {},
     "output_type": "execute_result"
    }
   ],
   "source": [
    "movie_rec('Jeans')"
   ]
  },
  {
   "cell_type": "markdown",
   "id": "c68864cf",
   "metadata": {
    "papermill": {
     "duration": 0.035327,
     "end_time": "2021-10-11T11:07:25.072194",
     "exception": false,
     "start_time": "2021-10-11T11:07:25.036867",
     "status": "completed"
    },
    "tags": []
   },
   "source": [
    "<h2>According to above results, we can recommend above 10 movies to people who have watched 'Jeans' movie.</h2>"
   ]
  }
 ],
 "metadata": {
  "kernelspec": {
   "display_name": "Python 3",
   "language": "python",
   "name": "python3"
  },
  "language_info": {
   "codemirror_mode": {
    "name": "ipython",
    "version": 3
   },
   "file_extension": ".py",
   "mimetype": "text/x-python",
   "name": "python",
   "nbconvert_exporter": "python",
   "pygments_lexer": "ipython3",
   "version": "3.7.10"
  },
  "papermill": {
   "default_parameters": {},
   "duration": 46.778077,
   "end_time": "2021-10-11T11:07:26.692371",
   "environment_variables": {},
   "exception": null,
   "input_path": "__notebook__.ipynb",
   "output_path": "__notebook__.ipynb",
   "parameters": {},
   "start_time": "2021-10-11T11:06:39.914294",
   "version": "2.3.3"
  }
 },
 "nbformat": 4,
 "nbformat_minor": 5
}
